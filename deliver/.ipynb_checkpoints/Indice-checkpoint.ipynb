{
 "cells": [
  {
   "cell_type": "markdown",
   "metadata": {
    "collapsed": true
   },
   "source": [
    "# IV Semana de Geociências UnB\n",
    "## As geociências na gestão dos recursos naturais\n",
    "\n",
    "Instrutor: *Marcos Ferreira CPRM / George Sand UnB*<br>\n",
    "Local: Universidade de Brasília/Observatório Sismológico\n",
    "\n",
    "![capa](../figures/4_semana_de_geociencas_UnB.jpg)\n",
    "\n",
    "## Conteúdo\n",
    "\n",
    "\n",
    "1. Tópicos do Curso\n",
    "    - Python, Jupyter, Git, NumPy, Matplotlib\n",
    "    * NB:[Git e Github](Git-basico-Git-Classroom.ipynb)\n",
    "2. Revisão de números complexos\n",
    "3. Introdução à álgebra linear\n",
    "    * NB:[Soma parcial da Série de Fourier](soma_parcial_sFourier.ipynb)\n",
    "4. Projeções ortogonais\n",
    "    * NB:[Funções Periódicas](funcoes_periodicas.ipynb)\n",
    "    * NB:[Soma Senos e Cossenos](soma_sen_cos.ipynb)\n",
    "5. Análise espectral\n",
    "6. Propriedades da Transformada de Fourier\n",
    "7. Revisão de Python\n",
    "8. Convolução\n",
    "9. Plot + Função\n",
    "    * NB:[Samambaia de Barnsley](Barnsley_Samambaia.ipynb)\n",
    "    * NB:[Aliasing](Aliasing.ipynb)\n"
   ]
  },
  {
   "cell_type": "code",
   "execution_count": null,
   "metadata": {
    "collapsed": true
   },
   "outputs": [],
   "source": []
  }
 ],
 "metadata": {
  "kernelspec": {
   "display_name": "Python 3",
   "language": "python",
   "name": "python3"
  },
  "language_info": {
   "codemirror_mode": {
    "name": "ipython",
    "version": 3
   },
   "file_extension": ".py",
   "mimetype": "text/x-python",
   "name": "python",
   "nbconvert_exporter": "python",
   "pygments_lexer": "ipython3",
   "version": "3.6.2"
  }
 },
 "nbformat": 4,
 "nbformat_minor": 1
}
