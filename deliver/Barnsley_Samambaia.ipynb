{
 "cells": [
  {
   "cell_type": "code",
   "execution_count": 1,
   "metadata": {
    "collapsed": true
   },
   "outputs": [],
   "source": [
    "import numpy as np\n",
    "import matplotlib.pyplot as plt\n",
    "import random\n",
    "%matplotlib inline"
   ]
  },
  {
   "cell_type": "code",
   "execution_count": 8,
   "metadata": {},
   "outputs": [],
   "source": [
    "def next_point(x0, y0):\n",
    "    \"\"\"Gerar o proximo ponto na Samambaia de Barnsley.\"\"\"\n",
    "    r = random.random()\n",
    "    if r <= 0.02:\n",
    "        x1 = 0.0\n",
    "        y1 = 0.16*y0\n",
    "    elif r <= 0.86:\n",
    "        x1 = 0.85*x0 + 0.04*y0\n",
    "        x1 = 0.8*x0 + 0.04*y0\n",
    "        y1 = -0.04*x0 + 0.85*y0 + 1.6\n",
    "        y1 = -0.04*x0 + 0.7*y0 + 1.6\n",
    "    elif r <= 0.93:\n",
    "        x1 = 0.2*x0 - 0.26*y0\n",
    "        y1 = 0.23*x0 + 0.22*y0 + 1.6\n",
    "    else:\n",
    "        x1 = -0.15*x0 + 0.28*y0\n",
    "        y1 = 0.26*x0 + 0.24*y0 + 0.44\n",
    "    return x1, y1"
   ]
  },
  {
   "cell_type": "code",
   "execution_count": 9,
   "metadata": {},
   "outputs": [],
   "source": [
    "N = 100000\n",
    "X = np.zeros(N)\n",
    "Y = np.zeros(N)\n",
    "X[0] = 0.0; Y[0] = 0.0;\n",
    "k = 1\n",
    "for k in range(1, N):\n",
    "    X[k], Y[k] = next_point(X[k-1], Y[k-1])\n",
    "    k += 1"
   ]
  },
  {
   "cell_type": "code",
   "execution_count": 10,
   "metadata": {},
   "outputs": [
    {
     "data": {
      "text/plain": [
       "[<matplotlib.lines.Line2D at 0x7fdfdf5d2790>]"
      ]
     },
     "execution_count": 10,
     "metadata": {},
     "output_type": "execute_result"
    },
    {
     "data": {
      "image/png": "[encoded data removed]",
      "text/plain": [
       "<matplotlib.figure.Figure at 0x7fdfdf353c50>"
      ]
     },
     "metadata": {},
     "output_type": "display_data"
    }
   ],
   "source": [
    "Nmin = 500\n",
    "fig = plt.gcf()\n",
    "fig.set_size_inches(6, 10)\n",
    "ax = plt.axes(frameon=False)\n",
    "ax.axes.get_xaxis().set_visible(False)  # remove the axes\n",
    "ax.axes.get_yaxis().set_visible(False)\n",
    "plt.plot(X[Nmin:], Y[Nmin:], ',', c='g')"
   ]
  },
  {
   "cell_type": "code",
   "execution_count": null,
   "metadata": {},
   "outputs": [],
   "source": [
    ""
   ]
  }
 ],
 "metadata": {
  "kernelspec": {
   "display_name": "Python 2",
   "language": "python",
   "name": "python2"
  },
  "language_info": {
   "codemirror_mode": {
    "name": "ipython",
    "version": 2.0
   },
   "file_extension": ".py",
   "mimetype": "text/x-python",
   "name": "python",
   "nbconvert_exporter": "python",
   "pygments_lexer": "ipython2",
   "version": "2.7.6"
  }
 },
 "nbformat": 4,
 "nbformat_minor": 0
}