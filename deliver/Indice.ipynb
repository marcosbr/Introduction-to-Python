{
 "cells": [
  {
   "cell_type": "markdown",
   "metadata": {
    "collapsed": true
   },
   "source": [
    "# IV Semana de Geociências UnB\n",
    "## As geociências na gestão dos recursos naturais\n",
    "\n",
    "Instrutor: *Marcos Ferreira CPRM / George Sand UnB*<br>\n",
    "Local: Universidade de Brasília/Observatório Sismológico\n",
    "\n",
    "![capa](../figures/4_semana_de_geociencas_UnB.jpg)\n",
    "\n",
    "## Conteúdo\n",
    "\n",
    "\n",
    "1. Tópicos do Curso\n",
    "    - Python, Jupyter, Git, NumPy, Matplotlib\n",
    "2. Loops\n",
    "    * NB:[Loops](Loops.ipynb)\n",
    "3. Numpy \n",
    "    * NB:[Numpy](Numpy.ipynb)\n",
    "4. Gráficos\n",
    "    * NB:[Gráficos](graficos.ipynb)\n",
    "5. Plot + Função\n",
    "    * NB:[Samambaia de Barnsley](Barnsley_Samambaia.ipynb)\n",
    "6. Geofísica\n",
    "    * NB:[Geofísica](Geofisica.ipynb)\n",
    "\n"
   ]
  },
  {
   "cell_type": "code",
   "execution_count": null,
   "metadata": {
    "collapsed": true
   },
   "outputs": [],
   "source": []
  }
 ],
 "metadata": {
  "kernelspec": {
   "display_name": "Python 3",
   "language": "python",
   "name": "python3"
  },
  "language_info": {
   "codemirror_mode": {
    "name": "ipython",
    "version": 3
   },
   "file_extension": ".py",
   "mimetype": "text/x-python",
   "name": "python",
   "nbconvert_exporter": "python",
   "pygments_lexer": "ipython3",
   "version": "3.6.2"
  }
 },
 "nbformat": 4,
 "nbformat_minor": 1
}
