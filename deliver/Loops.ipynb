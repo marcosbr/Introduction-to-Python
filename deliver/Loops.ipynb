{
 "cells": [
  {
   "cell_type": "markdown",
   "metadata": {},
   "source": [
    "# Loops"
   ]
  },
  {
   "cell_type": "code",
   "execution_count": 1,
   "metadata": {},
   "outputs": [
    {
     "name": "stdout",
     "output_type": "stream",
     "text": [
      "1\n",
      "2\n",
      "3\n",
      "4\n",
      "5\n",
      "6\n",
      "7\n",
      "8\n",
      "9\n",
      "10\n",
      "11\n"
     ]
    }
   ],
   "source": [
    "cnt = 0 \n",
    "while cnt <= 10:\n",
    "    cnt += 1\n",
    "    print(cnt)"
   ]
  },
  {
   "cell_type": "code",
   "execution_count": 2,
   "metadata": {},
   "outputs": [
    {
     "name": "stdout",
     "output_type": "stream",
     "text": [
      "1\n",
      "2\n",
      "3\n",
      "4\n",
      "5\n",
      "6\n",
      "7\n",
      "8\n",
      "9\n",
      "10\n"
     ]
    }
   ],
   "source": [
    "for k in range(1,12):\n",
    "    print(k)\n",
    "    "
   ]
  },
  {
   "cell_type": "markdown",
   "metadata": {},
   "source": [
    "## Exercício Converta as temperaturas Celsius para Fahrenheit\n",
    "\n",
    "Fórmula F = (9.0/5)*C + 32.\n",
    "\n",
    "Imprima na Tela a temperatura em Celsius e em Fahrenheit\n",
    "\n",
    "Faça o cálculo para as temperaturas entre -20 e 40 com 5 graus de espaçamento\n",
    "\n",
    "### Resolva com o While"
   ]
  },
  {
   "cell_type": "code",
   "execution_count": null,
   "metadata": {
    "collapsed": true
   },
   "outputs": [],
   "source": []
  },
  {
   "cell_type": "markdown",
   "metadata": {},
   "source": [
    "## Exercício Converta as temperaturas Celsius para Fahrenheit\n",
    "\n",
    "Fórmula F = (9.0/5)*C + 32.\n",
    "\n",
    "Imprima na Tela a temperatura em Celsius e em Fahrenheit\n",
    "\n",
    "Faça o cálculo para as temperaturas entre -20 e 40 com 5 graus de espaçamento\n",
    "\n",
    "### Resolva com o For"
   ]
  },
  {
   "cell_type": "code",
   "execution_count": null,
   "metadata": {
    "collapsed": true
   },
   "outputs": [],
   "source": []
  },
  {
   "cell_type": "markdown",
   "metadata": {},
   "source": [
    "# Cálculo de valores de Função\n",
    "\n",
    "A Função gaussiana é dada pela expressão \n",
    "\n",
    "# $ f(x) =  \\frac{1}{\\sqrt(2\\pi)s}\\exp(-\\frac{1}{2}(\\frac{x-m}{s})^2)$\n",
    "\n",
    "Calcule para $m=0$, $s=2$ e $x=1$:"
   ]
  },
  {
   "cell_type": "code",
   "execution_count": null,
   "metadata": {
    "collapsed": true
   },
   "outputs": [],
   "source": [
    "from math import sqrt\n",
    "\n",
    "\n"
   ]
  }
 ],
 "metadata": {
  "kernelspec": {
   "display_name": "Python 3",
   "language": "python",
   "name": "python3"
  },
  "language_info": {
   "codemirror_mode": {
    "name": "ipython",
    "version": 3
   },
   "file_extension": ".py",
   "mimetype": "text/x-python",
   "name": "python",
   "nbconvert_exporter": "python",
   "pygments_lexer": "ipython3",
   "version": "3.6.2"
  }
 },
 "nbformat": 4,
 "nbformat_minor": 2
}
