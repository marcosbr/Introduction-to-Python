{
 "cells": [
  {
   "cell_type": "code",
   "execution_count": 1,
   "metadata": {},
   "outputs": [
    {
     "name": "stdout",
     "output_type": "stream",
     "text": [
      "[ 2.    2.25  2.5   2.75  3.  ] [ 2.   2.2  2.4  2.6  2.8]\n"
     ]
    }
   ],
   "source": [
    "import numpy as np\n",
    "\n",
    "X = np.linspace(2.0, 3.0, num=5)\n",
    "Y = np.linspace(2.0, 3.0, num=5, endpoint=False)\n",
    "\n",
    "print(X,Y)\n",
    "\n",
    "\n",
    "X = np.arange(1,10)\n",
    "Y = np.arange(1,10,dtype=complex)\n",
    "#print(X,Y)\n",
    "\n",
    "X = np.zeros(10,dtype=float)\n",
    "Y = np.zeros((2,2))\n",
    "#print(X,Y)\n"
   ]
  },
  {
   "cell_type": "code",
   "execution_count": 2,
   "metadata": {},
   "outputs": [],
   "source": [
    "\n",
    "la = np.array([1,2,3,4])\n",
    "#print(la)\n",
    "x = np.linspace(0,1,11)\n",
    "#print(x)\n",
    "cx = np.array(la, dtype=complex)\n",
    "#print(cx)\n",
    "\n",
    "\n",
    "#x<0, se x for escalar está ok, e o resultado será \n",
    "#True ou False.\n",
    "\n",
    "x=np.linspace(-2,2,401)\n",
    "y=x<0\n",
    "#print(x)\n",
    "#print(y)\n",
    "\n",
    "\n",
    "x=np.linspace(-1,3,9)\n",
    "y=np.select([  x>=2,  x>=1,  x>0,  x<0], [ 4.0, x**2, x**3, -x])\n",
    "#print(y)\n",
    "\n"
   ]
  },
  {
   "cell_type": "code",
   "execution_count": 3,
   "metadata": {},
   "outputs": [],
   "source": [
    "\n",
    "X = np.array([2,4,3], float)\n",
    "Y = x.sum()\n",
    "Z = x.prod()\n",
    "K = x.mean()\n",
    "L = x.var()\n",
    "O = x.std()\n",
    "MIN = x.min()\n",
    "MAX = x.max() \n",
    "#print(\"Soma %f Produto %f Media %f\" %(Y,Z,K))\n",
    "#print(\"Var %f STD %f Min %f Max %f\" %(L,O,MIN,MAX))\n",
    "\n"
   ]
  },
  {
   "cell_type": "code",
   "execution_count": 4,
   "metadata": {},
   "outputs": [],
   "source": [
    "#Seleção e manipulação\n",
    "x = np.array([[6, 4], [5, 9]], float)\n",
    "y = (x >= 6)\n",
    "#print(y)\n",
    "\n",
    "\n",
    "#Mais complicado um pouquinho\n",
    "z = x[np.logical_and(x > 5, x< 9)]\n",
    "#print(x)\n",
    "\n",
    "x = np.array([2, 4, 6, 8], float)\n",
    "y = np.array([0, 0, 1, 3, 2, 1], int)\n",
    "#print(x[y])\n",
    "\n",
    "\n",
    "x = np.array([[4, 2, 0], [9, 3, 7], [1, 2, 1]], float)\n",
    "DET=np.linalg.det(x)\n",
    "\n",
    "AUT=np.linalg.eig(x)\n",
    "INV=np.linalg.inv(x) #np.linalg.svd\n",
    "#print(\"Calculo o determinante....\")\n",
    "#print(DET,AUT,INV)\n"
   ]
  },
  {
   "cell_type": "code",
   "execution_count": 5,
   "metadata": {},
   "outputs": [],
   "source": [
    "\n",
    "# a0*x2 + a1*x + a2.\n",
    "# For example, to represent 3*x**2 + 2*x + 1:\n",
    "# p1 = numpy.poly1d([3,2,1])\n",
    "roots=[0,1,1,2]\n",
    "#encontrar os coeficiente de um polinomios para \n",
    "#sequencia\n",
    "coeffs=np.poly(roots)\n",
    "\n",
    "#print(coeffs)\n",
    "\n",
    "#print(np.roots(coeffs))\n"
   ]
  },
  {
   "cell_type": "code",
   "execution_count": null,
   "metadata": {},
   "outputs": [],
   "source": []
  }
 ],
 "metadata": {
  "kernelspec": {
   "display_name": "Python 3",
   "language": "python",
   "name": "python3"
  },
  "language_info": {
   "codemirror_mode": {
    "name": "ipython",
    "version": 3
   },
   "file_extension": ".py",
   "mimetype": "text/x-python",
   "name": "python",
   "nbconvert_exporter": "python",
   "pygments_lexer": "ipython3",
   "version": "3.6.2"
  }
 },
 "nbformat": 4,
 "nbformat_minor": 2
}
