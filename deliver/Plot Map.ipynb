{
 "cells": [
  {
   "cell_type": "code",
   "execution_count": 3,
   "metadata": {},
   "outputs": [
    {
     "ename": "ModuleNotFoundError",
     "evalue": "No module named 'mpl_toolkits.basemap'",
     "output_type": "error",
     "traceback": [
      "\u001b[1;31m---------------------------------------------------------------------------\u001b[0m",
      "\u001b[1;31mModuleNotFoundError\u001b[0m                       Traceback (most recent call last)",
      "\u001b[1;32m<ipython-input-3-3f0b5194ee6d>\u001b[0m in \u001b[0;36m<module>\u001b[1;34m()\u001b[0m\n\u001b[0;32m     23\u001b[0m \u001b[1;33m\u001b[0m\u001b[0m\n\u001b[0;32m     24\u001b[0m \u001b[1;31m# --- Map ---\u001b[0m\u001b[1;33m\u001b[0m\u001b[1;33m\u001b[0m\u001b[0m\n\u001b[1;32m---> 25\u001b[1;33m \u001b[1;32mfrom\u001b[0m \u001b[0mmpl_toolkits\u001b[0m\u001b[1;33m.\u001b[0m\u001b[0mbasemap\u001b[0m \u001b[1;32mimport\u001b[0m \u001b[0mBasemap\u001b[0m\u001b[1;33m\u001b[0m\u001b[0m\n\u001b[0m\u001b[0;32m     26\u001b[0m \u001b[1;32mfrom\u001b[0m \u001b[0mmatplotlib\u001b[0m \u001b[1;32mimport\u001b[0m \u001b[0mBasemap\u001b[0m\u001b[1;33m\u001b[0m\u001b[0m\n\u001b[0;32m     27\u001b[0m \u001b[1;32mimport\u001b[0m \u001b[0mmatplotlib\u001b[0m\u001b[1;33m.\u001b[0m\u001b[0mpyplot\u001b[0m \u001b[1;32mas\u001b[0m \u001b[0mplt\u001b[0m\u001b[1;33m\u001b[0m\u001b[0m\n",
      "\u001b[1;31mModuleNotFoundError\u001b[0m: No module named 'mpl_toolkits.basemap'"
     ]
    }
   ],
   "source": [
    "import csv\n",
    "# abriando arquivo de terremtos (earthquake.usgs.gov).\n",
    "filename = 'query.csv'\n",
    "\"\"\" \"\"\"\n",
    "# Criar listas vazias para latitudes e longitudes.\n",
    "lats, lons = [], []\n",
    "magnitudes = []\n",
    "timestrings = []\n",
    "\n",
    "# Ler o arquivo, pular a primeira linha,\n",
    "#  e pegar as lats e lons.\n",
    "with open(filename) as f:\n",
    "    # Criar um csv reader object.\n",
    "    reader = csv.reader(f)\n",
    "    # Ignore o cabecalho.\n",
    "    next(reader)\n",
    "    # A latitude e longitudes. + magnitude\n",
    "    for row in reader:\n",
    "        lats.append(float(row[1]))\n",
    "        lons.append(float(row[2]))\n",
    "        magnitudes.append(float(row[4]))\n",
    "        timestrings.append(row[0])\n",
    "\n",
    "# --- Map ---\n",
    "from mpl_toolkits.basemap import Basemap\n",
    "from matplotlib import Basemap\n",
    "import matplotlib.pyplot as plt\n",
    "import numpy as np\n",
    "\n",
    "def get_marker_color(magnitude):\n",
    "  # Verde para terremotos pequenos, amarelos intermediarios\n",
    "  # e vermelhos para grande.\n",
    "\tif magnitude < 5.0:\n",
    "\t\treturn ('go')\n",
    "\telif magnitude < 6.0:\n",
    "\t\treturn ('yo')\n",
    "\telse:\n",
    "\t\treturn ('ro')  \n",
    "\n",
    "eq_map = Basemap(projection='robin', resolution = 'l',   area_thresh = 1000.0,\n",
    "              lat_0=0, lon_0=-130)\n",
    "eq_map.drawcoastlines()\n",
    "eq_map.drawcountries()\n",
    "eq_map.fillcontinents(color = 'gray')\n",
    "eq_map.drawmapboundary()\n",
    "eq_map.drawmeridians(np.arange(0, 360, 30))\n",
    "eq_map.drawparallels(np.arange(-90, 90, 30))\n",
    "\n",
    "min_marker_size = 2.0\n",
    "for lon, lat, mag in zip(lons, lats, magnitudes):\n",
    " x,y = eq_map(lon, lat)\n",
    " msize = mag * min_marker_size\n",
    " marker_string = get_marker_color(mag)\n",
    " eq_map.plot(x, y, marker_string, markersize=msize) \n",
    "\n",
    "title_string = \"Terremotos de Magnitude >= 4.0 \\n\"\n",
    "title_string += \"%s ate %s\" % (timestrings[-1], timestrings[0])\n",
    "plt.title(title_string) \n",
    " \n",
    "plt.show()\n",
    "\n"
   ]
  },
  {
   "cell_type": "code",
   "execution_count": 4,
   "metadata": {},
   "outputs": [],
   "source": []
  },
  {
   "cell_type": "code",
   "execution_count": 6,
   "metadata": {},
   "outputs": [],
   "source": [
    "\n"
   ]
  },
  {
   "cell_type": "code",
   "execution_count": null,
   "metadata": {},
   "outputs": [],
   "source": []
  }
 ],
 "metadata": {
  "kernelspec": {
   "display_name": "Python 3",
   "language": "python",
   "name": "python3"
  },
  "language_info": {
   "codemirror_mode": {
    "name": "ipython",
    "version": 3
   },
   "file_extension": ".py",
   "mimetype": "text/x-python",
   "name": "python",
   "nbconvert_exporter": "python",
   "pygments_lexer": "ipython3",
   "version": "3.6.2"
  }
 },
 "nbformat": 4,
 "nbformat_minor": 2
}
